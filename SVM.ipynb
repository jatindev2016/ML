{
 "cells": [
  {
   "cell_type": "code",
   "execution_count": 23,
   "metadata": {},
   "outputs": [],
   "source": [
    "from __future__ import division\n",
    "from mnist import MNIST\n",
    "from sklearn import tree\n",
    "import numpy as np\n",
    "from sklearn.metrics import classification_report,log_loss,accuracy_score,roc_auc_score\n",
    "from sklearn.ensemble import RandomForestClassifier\n",
    "from time import time\n",
    "import pandas as pd\n",
    "from datetime import datetime\n",
    "from openpyxl import load_workbook\n",
    "import re\n",
    "from sklearn.preprocessing import label_binarize\n",
    "from sklearn.linear_model import LogisticRegression\n",
    "import numpy as np\n",
    "from sklearn.svm import SVC\n",
    "from sklearn.metrics import accuracy_score\n",
    "from mlxtend.data import loadlocal_mnist\n",
    "import timeit\n",
    "import timeit \n",
    "from sklearn.svm import LinearSVC\n",
    "from sklearn.calibration import CalibratedClassifierCV\n",
    "from sklearn.metrics import confusion_matrix\n",
    "\n",
    "\n",
    "images_train_o,labels_train_o  = loadlocal_mnist(\n",
    "        images_path='/users/mtech/jatindev/Downloads/train-images.idx3-ubyte',\n",
    "        labels_path='/users/mtech/jatindev/Downloads/train-labels.idx1-ubyte')\n",
    "images_test_o,labels_test_o= loadlocal_mnist(\n",
    "        images_path='/users/mtech/jatindev/Downloads/t10k-images.idx3-ubyte',\n",
    "        labels_path='/users/mtech/jatindev/Downloads/t10k-labels.idx1-ubyte')\n",
    "\n"
   ]
  },
  {
   "cell_type": "code",
   "execution_count": null,
   "metadata": {},
   "outputs": [],
   "source": []
  },
  {
   "cell_type": "code",
   "execution_count": 24,
   "metadata": {},
   "outputs": [
    {
     "name": "stderr",
     "output_type": "stream",
     "text": [
      "/usr/lib/python3/dist-packages/pandas/io/excel.py:687: DeprecationWarning: Call to deprecated function remove_sheet (Use wb.remove(worksheet) or del wb[sheetname]).\n",
      "  self.book.remove_sheet(self.book.worksheets[0])\n"
     ]
    }
   ],
   "source": [
    "excel_file_name = 'LinearSvm' + str(datetime.now().strftime('%Y%m%d%H%M%S')) + '.xlsx'\n",
    "excel_writer = pd.ExcelWriter(excel_file_name, engine='openpyxl')\n",
    "df = pd.DataFrame(columns=['Examples','Accuracy','Normalized Accuracy', \n",
    "                     'Time_taken_train','Time_taken_test',\n",
    "                     'Negative Log loss','Macro_auc','Micro_auc'])\n",
    "df.to_excel(excel_writer, sheet_name='demo_sheet')\n",
    "\n",
    "excel_writer.save()\n"
   ]
  },
  {
   "cell_type": "code",
   "execution_count": 25,
   "metadata": {},
   "outputs": [],
   "source": [
    "def classifaction_report_to_dataframe(report):\n",
    "    report_data = []\n",
    "    lines = report.split('\\n')\n",
    "    for line in lines[2:-3]:\n",
    "        row = {}\n",
    "        row_data = line.split('      ')\n",
    "        print(line)\n",
    "        if len(row_data)>5:\n",
    "            row['class'] = row_data[1]\n",
    "            row['precision'] = float(row_data[2])\n",
    "            row['recall'] = float(row_data[3])\n",
    "            row['f1_score'] = float(row_data[4])\n",
    "            row['support'] = float(row_data[5])\n",
    "            report_data.append(row)\n",
    "    for line in lines[-2:-1]:\n",
    "        row = {}\n",
    "        p = re.compile(\"weighted avg\")\n",
    "        m = p.search(line)  \n",
    "        print(line)\n",
    "        row['class'] = m.group(0)\n",
    "        p = re.compile(\"\\d+.?\\d+\")\n",
    "        row_data = p.findall(line)\n",
    "        row['precision'] = float(row_data[0])\n",
    "        row['recall'] = float(row_data[1])\n",
    "        row['f1_score'] = float(row_data[2])\n",
    "        row['support'] = float(row_data[3])\n",
    "        report_data.append(row)\n",
    "        \n",
    "    dataframe = pd.DataFrame.from_dict(report_data)\n",
    "    return dataframe"
   ]
  },
  {
   "cell_type": "code",
   "execution_count": null,
   "metadata": {},
   "outputs": [],
   "source": [
    "\n"
   ]
  },
  {
   "cell_type": "code",
   "execution_count": 26,
   "metadata": {},
   "outputs": [
    {
     "name": "stdout",
     "output_type": "stream",
     "text": [
      "For t= 100\n"
     ]
    },
    {
     "name": "stderr",
     "output_type": "stream",
     "text": [
      "/users/mtech/jatindev/.local/lib/python3.5/site-packages/sklearn/model_selection/_split.py:1943: FutureWarning: You should specify a value for 'cv' instead of relying on the default value. The default value will change from 3 to 5 in version 0.22.\n",
      "  warnings.warn(CV_WARNING, FutureWarning)\n"
     ]
    },
    {
     "name": "stdout",
     "output_type": "stream",
     "text": [
      "           0       0.89      1.00      0.94         8\n",
      "           1       0.70      1.00      0.82        14\n",
      "           2       0.80      0.50      0.62         8\n",
      "           3       0.77      0.91      0.83        11\n",
      "           4       0.50      0.86      0.63        14\n",
      "           5       1.00      0.14      0.25         7\n",
      "           6       1.00      0.50      0.67        10\n",
      "           7       0.92      0.80      0.86        15\n",
      "           8       0.50      0.50      0.50         2\n",
      "           9       0.62      0.45      0.53        11\n",
      "\n",
      "   micro avg       0.72      0.72      0.72       100\n",
      "weighted avg       0.77      0.72      0.70       100\n",
      "For t= 200\n"
     ]
    },
    {
     "name": "stderr",
     "output_type": "stream",
     "text": [
      "/usr/lib/python3/dist-packages/pandas/io/excel.py:687: DeprecationWarning: Call to deprecated function remove_sheet (Use wb.remove(worksheet) or del wb[sheetname]).\n",
      "  self.book.remove_sheet(self.book.worksheets[0])\n",
      "/users/mtech/jatindev/.local/lib/python3.5/site-packages/sklearn/model_selection/_split.py:1943: FutureWarning: You should specify a value for 'cv' instead of relying on the default value. The default value will change from 3 to 5 in version 0.22.\n",
      "  warnings.warn(CV_WARNING, FutureWarning)\n",
      "/usr/lib/python3/dist-packages/pandas/io/excel.py:687: DeprecationWarning: Call to deprecated function remove_sheet (Use wb.remove(worksheet) or del wb[sheetname]).\n",
      "  self.book.remove_sheet(self.book.worksheets[0])\n",
      "/users/mtech/jatindev/.local/lib/python3.5/site-packages/sklearn/model_selection/_split.py:1943: FutureWarning: You should specify a value for 'cv' instead of relying on the default value. The default value will change from 3 to 5 in version 0.22.\n",
      "  warnings.warn(CV_WARNING, FutureWarning)\n"
     ]
    },
    {
     "name": "stdout",
     "output_type": "stream",
     "text": [
      "           0       0.89      0.94      0.91        17\n",
      "           1       0.97      1.00      0.98        28\n",
      "           2       0.65      0.69      0.67        16\n",
      "           3       0.54      0.88      0.67        16\n",
      "           4       0.61      0.71      0.66        28\n",
      "           5       1.00      0.05      0.10        20\n",
      "           6       0.71      0.60      0.65        20\n",
      "           7       0.73      0.79      0.76        24\n",
      "           8       0.73      0.80      0.76        10\n",
      "           9       0.59      0.62      0.60        21\n",
      "\n",
      "   micro avg       0.71      0.71      0.71       200\n",
      "weighted avg       0.75      0.71      0.68       200\n",
      "For t= 500\n"
     ]
    },
    {
     "name": "stderr",
     "output_type": "stream",
     "text": [
      "/usr/lib/python3/dist-packages/pandas/io/excel.py:687: DeprecationWarning: Call to deprecated function remove_sheet (Use wb.remove(worksheet) or del wb[sheetname]).\n",
      "  self.book.remove_sheet(self.book.worksheets[0])\n"
     ]
    },
    {
     "name": "stdout",
     "output_type": "stream",
     "text": [
      "           0       0.91      0.98      0.94        42\n",
      "           1       0.89      1.00      0.94        67\n",
      "           2       0.94      0.82      0.87        55\n",
      "           3       0.76      0.91      0.83        45\n",
      "           4       0.89      0.75      0.81        55\n",
      "           5       0.88      0.58      0.70        50\n",
      "           6       0.86      0.86      0.86        43\n",
      "           7       0.74      0.88      0.80        49\n",
      "           8       0.90      0.65      0.75        40\n",
      "           9       0.71      0.91      0.80        54\n",
      "\n",
      "   micro avg       0.84      0.84      0.84       500\n",
      "weighted avg       0.85      0.84      0.83       500\n",
      "For t= 1000\n"
     ]
    },
    {
     "name": "stderr",
     "output_type": "stream",
     "text": [
      "/users/mtech/jatindev/.local/lib/python3.5/site-packages/sklearn/model_selection/_split.py:1943: FutureWarning: You should specify a value for 'cv' instead of relying on the default value. The default value will change from 3 to 5 in version 0.22.\n",
      "  warnings.warn(CV_WARNING, FutureWarning)\n",
      "/usr/lib/python3/dist-packages/pandas/io/excel.py:687: DeprecationWarning: Call to deprecated function remove_sheet (Use wb.remove(worksheet) or del wb[sheetname]).\n",
      "  self.book.remove_sheet(self.book.worksheets[0])\n"
     ]
    },
    {
     "name": "stdout",
     "output_type": "stream",
     "text": [
      "           0       0.93      0.98      0.95        85\n",
      "           1       0.94      0.98      0.96       126\n",
      "           2       0.87      0.78      0.82       116\n",
      "           3       0.85      0.73      0.78       107\n",
      "           4       0.86      0.86      0.86       110\n",
      "           5       0.75      0.79      0.77        87\n",
      "           6       0.86      0.89      0.87        87\n",
      "           7       0.71      0.87      0.78        99\n",
      "           8       0.77      0.72      0.74        89\n",
      "           9       0.75      0.70      0.73        94\n",
      "\n",
      "   micro avg       0.83      0.83      0.83      1000\n",
      "weighted avg       0.83      0.83      0.83      1000\n",
      "For t= 2000\n"
     ]
    },
    {
     "name": "stderr",
     "output_type": "stream",
     "text": [
      "/users/mtech/jatindev/.local/lib/python3.5/site-packages/sklearn/model_selection/_split.py:1943: FutureWarning: You should specify a value for 'cv' instead of relying on the default value. The default value will change from 3 to 5 in version 0.22.\n",
      "  warnings.warn(CV_WARNING, FutureWarning)\n",
      "/users/mtech/jatindev/.local/lib/python3.5/site-packages/sklearn/svm/base.py:922: ConvergenceWarning: Liblinear failed to converge, increase the number of iterations.\n",
      "  \"the number of iterations.\", ConvergenceWarning)\n",
      "/users/mtech/jatindev/.local/lib/python3.5/site-packages/sklearn/svm/base.py:922: ConvergenceWarning: Liblinear failed to converge, increase the number of iterations.\n",
      "  \"the number of iterations.\", ConvergenceWarning)\n",
      "/users/mtech/jatindev/.local/lib/python3.5/site-packages/sklearn/svm/base.py:922: ConvergenceWarning: Liblinear failed to converge, increase the number of iterations.\n",
      "  \"the number of iterations.\", ConvergenceWarning)\n",
      "/usr/lib/python3/dist-packages/pandas/io/excel.py:687: DeprecationWarning: Call to deprecated function remove_sheet (Use wb.remove(worksheet) or del wb[sheetname]).\n",
      "  self.book.remove_sheet(self.book.worksheets[0])\n"
     ]
    },
    {
     "name": "stdout",
     "output_type": "stream",
     "text": [
      "           0       0.93      0.94      0.94       175\n",
      "           1       0.91      0.98      0.94       234\n",
      "           2       0.84      0.82      0.83       219\n",
      "           3       0.85      0.72      0.78       207\n",
      "           4       0.80      0.86      0.83       217\n",
      "           5       0.69      0.75      0.72       179\n",
      "           6       0.84      0.89      0.86       178\n",
      "           7       0.79      0.83      0.81       205\n",
      "           8       0.78      0.62      0.70       192\n",
      "           9       0.71      0.72      0.72       194\n",
      "\n",
      "   micro avg       0.82      0.82      0.82      2000\n",
      "weighted avg       0.82      0.82      0.81      2000\n",
      "For t= 5000\n"
     ]
    },
    {
     "name": "stderr",
     "output_type": "stream",
     "text": [
      "/users/mtech/jatindev/.local/lib/python3.5/site-packages/sklearn/model_selection/_split.py:1943: FutureWarning: You should specify a value for 'cv' instead of relying on the default value. The default value will change from 3 to 5 in version 0.22.\n",
      "  warnings.warn(CV_WARNING, FutureWarning)\n",
      "/users/mtech/jatindev/.local/lib/python3.5/site-packages/sklearn/svm/base.py:922: ConvergenceWarning: Liblinear failed to converge, increase the number of iterations.\n",
      "  \"the number of iterations.\", ConvergenceWarning)\n",
      "/users/mtech/jatindev/.local/lib/python3.5/site-packages/sklearn/svm/base.py:922: ConvergenceWarning: Liblinear failed to converge, increase the number of iterations.\n",
      "  \"the number of iterations.\", ConvergenceWarning)\n",
      "/users/mtech/jatindev/.local/lib/python3.5/site-packages/sklearn/svm/base.py:922: ConvergenceWarning: Liblinear failed to converge, increase the number of iterations.\n",
      "  \"the number of iterations.\", ConvergenceWarning)\n",
      "/usr/lib/python3/dist-packages/pandas/io/excel.py:687: DeprecationWarning: Call to deprecated function remove_sheet (Use wb.remove(worksheet) or del wb[sheetname]).\n",
      "  self.book.remove_sheet(self.book.worksheets[0])\n"
     ]
    },
    {
     "name": "stdout",
     "output_type": "stream",
     "text": [
      "           0       0.92      0.95      0.94       460\n",
      "           1       0.91      0.98      0.94       571\n",
      "           2       0.88      0.80      0.84       530\n",
      "           3       0.78      0.83      0.80       500\n",
      "           4       0.81      0.90      0.85       500\n",
      "           5       0.81      0.74      0.78       456\n",
      "           6       0.87      0.88      0.87       462\n",
      "           7       0.83      0.86      0.84       512\n",
      "           8       0.81      0.69      0.74       489\n",
      "           9       0.81      0.81      0.81       520\n",
      "\n",
      "   micro avg       0.84      0.84      0.84      5000\n",
      "weighted avg       0.84      0.84      0.84      5000\n",
      "For t= 10000\n"
     ]
    },
    {
     "name": "stderr",
     "output_type": "stream",
     "text": [
      "/users/mtech/jatindev/.local/lib/python3.5/site-packages/sklearn/model_selection/_split.py:1943: FutureWarning: You should specify a value for 'cv' instead of relying on the default value. The default value will change from 3 to 5 in version 0.22.\n",
      "  warnings.warn(CV_WARNING, FutureWarning)\n",
      "/users/mtech/jatindev/.local/lib/python3.5/site-packages/sklearn/svm/base.py:922: ConvergenceWarning: Liblinear failed to converge, increase the number of iterations.\n",
      "  \"the number of iterations.\", ConvergenceWarning)\n",
      "/users/mtech/jatindev/.local/lib/python3.5/site-packages/sklearn/svm/base.py:922: ConvergenceWarning: Liblinear failed to converge, increase the number of iterations.\n",
      "  \"the number of iterations.\", ConvergenceWarning)\n",
      "/users/mtech/jatindev/.local/lib/python3.5/site-packages/sklearn/svm/base.py:922: ConvergenceWarning: Liblinear failed to converge, increase the number of iterations.\n",
      "  \"the number of iterations.\", ConvergenceWarning)\n",
      "/usr/lib/python3/dist-packages/pandas/io/excel.py:687: DeprecationWarning: Call to deprecated function remove_sheet (Use wb.remove(worksheet) or del wb[sheetname]).\n",
      "  self.book.remove_sheet(self.book.worksheets[0])\n"
     ]
    },
    {
     "name": "stdout",
     "output_type": "stream",
     "text": [
      "           0       0.94      0.97      0.96       980\n",
      "           1       0.95      0.98      0.96      1135\n",
      "           2       0.91      0.83      0.87      1032\n",
      "           3       0.87      0.88      0.88      1010\n",
      "           4       0.88      0.90      0.89       982\n",
      "           5       0.86      0.80      0.83       892\n",
      "           6       0.90      0.94      0.92       958\n",
      "           7       0.88      0.91      0.90      1028\n",
      "           8       0.80      0.80      0.80       974\n",
      "           9       0.85      0.83      0.84      1009\n",
      "\n",
      "   micro avg       0.89      0.89      0.89     10000\n",
      "weighted avg       0.88      0.89      0.88     10000\n",
      "For t= 20000\n"
     ]
    },
    {
     "name": "stderr",
     "output_type": "stream",
     "text": [
      "/users/mtech/jatindev/.local/lib/python3.5/site-packages/sklearn/model_selection/_split.py:1943: FutureWarning: You should specify a value for 'cv' instead of relying on the default value. The default value will change from 3 to 5 in version 0.22.\n",
      "  warnings.warn(CV_WARNING, FutureWarning)\n",
      "/users/mtech/jatindev/.local/lib/python3.5/site-packages/sklearn/svm/base.py:922: ConvergenceWarning: Liblinear failed to converge, increase the number of iterations.\n",
      "  \"the number of iterations.\", ConvergenceWarning)\n",
      "/users/mtech/jatindev/.local/lib/python3.5/site-packages/sklearn/svm/base.py:922: ConvergenceWarning: Liblinear failed to converge, increase the number of iterations.\n",
      "  \"the number of iterations.\", ConvergenceWarning)\n",
      "/users/mtech/jatindev/.local/lib/python3.5/site-packages/sklearn/svm/base.py:922: ConvergenceWarning: Liblinear failed to converge, increase the number of iterations.\n",
      "  \"the number of iterations.\", ConvergenceWarning)\n",
      "/usr/lib/python3/dist-packages/pandas/io/excel.py:687: DeprecationWarning: Call to deprecated function remove_sheet (Use wb.remove(worksheet) or del wb[sheetname]).\n",
      "  self.book.remove_sheet(self.book.worksheets[0])\n"
     ]
    },
    {
     "name": "stdout",
     "output_type": "stream",
     "text": [
      "           0       0.94      0.97      0.95       980\n",
      "           1       0.94      0.98      0.96      1135\n",
      "           2       0.91      0.87      0.89      1032\n",
      "           3       0.86      0.89      0.88      1010\n",
      "           4       0.92      0.91      0.91       982\n",
      "           5       0.88      0.83      0.85       892\n",
      "           6       0.92      0.94      0.93       958\n",
      "           7       0.91      0.91      0.91      1028\n",
      "           8       0.86      0.83      0.85       974\n",
      "           9       0.86      0.87      0.87      1009\n",
      "\n",
      "   micro avg       0.90      0.90      0.90     10000\n",
      "weighted avg       0.90      0.90      0.90     10000\n",
      "For t= 30000\n"
     ]
    },
    {
     "name": "stderr",
     "output_type": "stream",
     "text": [
      "/users/mtech/jatindev/.local/lib/python3.5/site-packages/sklearn/model_selection/_split.py:1943: FutureWarning: You should specify a value for 'cv' instead of relying on the default value. The default value will change from 3 to 5 in version 0.22.\n",
      "  warnings.warn(CV_WARNING, FutureWarning)\n",
      "/users/mtech/jatindev/.local/lib/python3.5/site-packages/sklearn/svm/base.py:922: ConvergenceWarning: Liblinear failed to converge, increase the number of iterations.\n",
      "  \"the number of iterations.\", ConvergenceWarning)\n",
      "/users/mtech/jatindev/.local/lib/python3.5/site-packages/sklearn/svm/base.py:922: ConvergenceWarning: Liblinear failed to converge, increase the number of iterations.\n",
      "  \"the number of iterations.\", ConvergenceWarning)\n",
      "/users/mtech/jatindev/.local/lib/python3.5/site-packages/sklearn/svm/base.py:922: ConvergenceWarning: Liblinear failed to converge, increase the number of iterations.\n",
      "  \"the number of iterations.\", ConvergenceWarning)\n",
      "/usr/lib/python3/dist-packages/pandas/io/excel.py:687: DeprecationWarning: Call to deprecated function remove_sheet (Use wb.remove(worksheet) or del wb[sheetname]).\n",
      "  self.book.remove_sheet(self.book.worksheets[0])\n"
     ]
    },
    {
     "name": "stdout",
     "output_type": "stream",
     "text": [
      "           0       0.94      0.96      0.95       980\n",
      "           1       0.95      0.99      0.97      1135\n",
      "           2       0.92      0.89      0.90      1032\n",
      "           3       0.89      0.89      0.89      1010\n",
      "           4       0.91      0.92      0.92       982\n",
      "           5       0.88      0.85      0.86       892\n",
      "           6       0.91      0.95      0.93       958\n",
      "           7       0.92      0.90      0.91      1028\n",
      "           8       0.86      0.84      0.85       974\n",
      "           9       0.88      0.87      0.87      1009\n",
      "\n",
      "   micro avg       0.91      0.91      0.91     10000\n",
      "weighted avg       0.91      0.91      0.91     10000\n",
      "For t= 40000\n"
     ]
    },
    {
     "name": "stderr",
     "output_type": "stream",
     "text": [
      "/users/mtech/jatindev/.local/lib/python3.5/site-packages/sklearn/model_selection/_split.py:1943: FutureWarning: You should specify a value for 'cv' instead of relying on the default value. The default value will change from 3 to 5 in version 0.22.\n",
      "  warnings.warn(CV_WARNING, FutureWarning)\n",
      "/users/mtech/jatindev/.local/lib/python3.5/site-packages/sklearn/svm/base.py:922: ConvergenceWarning: Liblinear failed to converge, increase the number of iterations.\n",
      "  \"the number of iterations.\", ConvergenceWarning)\n",
      "/users/mtech/jatindev/.local/lib/python3.5/site-packages/sklearn/svm/base.py:922: ConvergenceWarning: Liblinear failed to converge, increase the number of iterations.\n",
      "  \"the number of iterations.\", ConvergenceWarning)\n",
      "/users/mtech/jatindev/.local/lib/python3.5/site-packages/sklearn/svm/base.py:922: ConvergenceWarning: Liblinear failed to converge, increase the number of iterations.\n",
      "  \"the number of iterations.\", ConvergenceWarning)\n",
      "/usr/lib/python3/dist-packages/pandas/io/excel.py:687: DeprecationWarning: Call to deprecated function remove_sheet (Use wb.remove(worksheet) or del wb[sheetname]).\n",
      "  self.book.remove_sheet(self.book.worksheets[0])\n"
     ]
    },
    {
     "name": "stdout",
     "output_type": "stream",
     "text": [
      "           0       0.95      0.97      0.96       980\n",
      "           1       0.94      0.99      0.96      1135\n",
      "           2       0.92      0.86      0.89      1032\n",
      "           3       0.87      0.90      0.88      1010\n",
      "           4       0.90      0.93      0.91       982\n",
      "           5       0.89      0.85      0.87       892\n",
      "           6       0.93      0.95      0.94       958\n",
      "           7       0.93      0.91      0.92      1028\n",
      "           8       0.85      0.83      0.84       974\n",
      "           9       0.89      0.87      0.88      1009\n",
      "\n",
      "   micro avg       0.91      0.91      0.91     10000\n",
      "weighted avg       0.91      0.91      0.91     10000\n",
      "For t= 50000\n"
     ]
    },
    {
     "name": "stderr",
     "output_type": "stream",
     "text": [
      "/users/mtech/jatindev/.local/lib/python3.5/site-packages/sklearn/model_selection/_split.py:1943: FutureWarning: You should specify a value for 'cv' instead of relying on the default value. The default value will change from 3 to 5 in version 0.22.\n",
      "  warnings.warn(CV_WARNING, FutureWarning)\n",
      "/users/mtech/jatindev/.local/lib/python3.5/site-packages/sklearn/svm/base.py:922: ConvergenceWarning: Liblinear failed to converge, increase the number of iterations.\n",
      "  \"the number of iterations.\", ConvergenceWarning)\n",
      "/users/mtech/jatindev/.local/lib/python3.5/site-packages/sklearn/svm/base.py:922: ConvergenceWarning: Liblinear failed to converge, increase the number of iterations.\n",
      "  \"the number of iterations.\", ConvergenceWarning)\n",
      "/users/mtech/jatindev/.local/lib/python3.5/site-packages/sklearn/svm/base.py:922: ConvergenceWarning: Liblinear failed to converge, increase the number of iterations.\n",
      "  \"the number of iterations.\", ConvergenceWarning)\n",
      "/usr/lib/python3/dist-packages/pandas/io/excel.py:687: DeprecationWarning: Call to deprecated function remove_sheet (Use wb.remove(worksheet) or del wb[sheetname]).\n",
      "  self.book.remove_sheet(self.book.worksheets[0])\n"
     ]
    },
    {
     "name": "stdout",
     "output_type": "stream",
     "text": [
      "           0       0.95      0.97      0.96       980\n",
      "           1       0.94      0.99      0.96      1135\n",
      "           2       0.93      0.87      0.90      1032\n",
      "           3       0.89      0.89      0.89      1010\n",
      "           4       0.91      0.93      0.92       982\n",
      "           5       0.87      0.85      0.86       892\n",
      "           6       0.92      0.95      0.94       958\n",
      "           7       0.91      0.90      0.91      1028\n",
      "           8       0.86      0.82      0.84       974\n",
      "           9       0.88      0.88      0.88      1009\n",
      "\n",
      "   micro avg       0.91      0.91      0.91     10000\n",
      "weighted avg       0.91      0.91      0.91     10000\n",
      "For t= 60000\n"
     ]
    },
    {
     "name": "stderr",
     "output_type": "stream",
     "text": [
      "/users/mtech/jatindev/.local/lib/python3.5/site-packages/sklearn/model_selection/_split.py:1943: FutureWarning: You should specify a value for 'cv' instead of relying on the default value. The default value will change from 3 to 5 in version 0.22.\n",
      "  warnings.warn(CV_WARNING, FutureWarning)\n",
      "/users/mtech/jatindev/.local/lib/python3.5/site-packages/sklearn/svm/base.py:922: ConvergenceWarning: Liblinear failed to converge, increase the number of iterations.\n",
      "  \"the number of iterations.\", ConvergenceWarning)\n",
      "/users/mtech/jatindev/.local/lib/python3.5/site-packages/sklearn/svm/base.py:922: ConvergenceWarning: Liblinear failed to converge, increase the number of iterations.\n",
      "  \"the number of iterations.\", ConvergenceWarning)\n",
      "/users/mtech/jatindev/.local/lib/python3.5/site-packages/sklearn/svm/base.py:922: ConvergenceWarning: Liblinear failed to converge, increase the number of iterations.\n",
      "  \"the number of iterations.\", ConvergenceWarning)\n",
      "/usr/lib/python3/dist-packages/pandas/io/excel.py:687: DeprecationWarning: Call to deprecated function remove_sheet (Use wb.remove(worksheet) or del wb[sheetname]).\n",
      "  self.book.remove_sheet(self.book.worksheets[0])\n"
     ]
    },
    {
     "name": "stdout",
     "output_type": "stream",
     "text": [
      "           0       0.95      0.98      0.96       980\n",
      "           1       0.95      0.99      0.97      1135\n",
      "           2       0.92      0.87      0.90      1032\n",
      "           3       0.89      0.89      0.89      1010\n",
      "           4       0.91      0.92      0.92       982\n",
      "           5       0.85      0.84      0.84       892\n",
      "           6       0.93      0.94      0.93       958\n",
      "           7       0.92      0.92      0.92      1028\n",
      "           8       0.85      0.83      0.84       974\n",
      "           9       0.88      0.88      0.88      1009\n",
      "\n",
      "   micro avg       0.91      0.91      0.91     10000\n",
      "weighted avg       0.91      0.91      0.91     10000\n"
     ]
    },
    {
     "name": "stderr",
     "output_type": "stream",
     "text": [
      "/usr/lib/python3/dist-packages/pandas/io/excel.py:687: DeprecationWarning: Call to deprecated function remove_sheet (Use wb.remove(worksheet) or del wb[sheetname]).\n",
      "  self.book.remove_sheet(self.book.worksheets[0])\n"
     ]
    }
   ],
   "source": [
    "for t in[100,200,500,1000,2000,5000,10000,20000,30000,40000,50000,60000]:\n",
    "    print('For t=',t)\n",
    "    images_train=images_train_o[:t]\n",
    "    labels_train=labels_train_o[:t]\n",
    "    images_test=images_test_o[0:t]\n",
    "    labels_test=labels_test_o[0:t]\n",
    "    svm = LinearSVC(dual=True)\n",
    "    classifier= CalibratedClassifierCV(svm)\n",
    "    start=time()\n",
    "    classifier.fit(images_train,labels_train)\n",
    "    train_time=time()-start\n",
    "    start=time()\n",
    "    predictions=classifier.predict(images_test)\n",
    "    test_time=time()-start\n",
    "    accuracy=accuracy_score(predictions,labels_test,normalize=False)\n",
    "    normalized_accuracy=accuracy_score(predictions,labels_test,normalize=True)\n",
    "    log_loss_prediction=classifier.predict_proba(images_test)\n",
    "    log_loss_val=log_loss(labels_test,log_loss_prediction)\n",
    "    classification_repo=classification_report(labels_test,predictions)\n",
    "\n",
    "    labels_test_one_hot=label_binarize(labels_test,classes=[0,1,2,3,4,5,6,7,8,9])\n",
    "    predictions_one_hot=label_binarize(predictions,classes=[0,1,2,3,4,5,6,7,8,9])\n",
    "    micro_auc=roc_auc_score(labels_test_one_hot,predictions_one_hot,average=\"micro\")\n",
    "    macro_auc=roc_auc_score(labels_test_one_hot,predictions_one_hot,average=\"macro\")\n",
    "\n",
    "    #print(micro_auc,macro_auc)\n",
    "    cm = confusion_matrix(labels_test,predictions)\n",
    "    cm_df = pd.DataFrame(data=cm)\n",
    "    df_data = [t,accuracy,normalized_accuracy,train_time,test_time,log_loss_val,macro_auc,micro_auc]\n",
    "    df.loc[len(df)] = df_data   \n",
    "\n",
    "    book = load_workbook(excel_file_name)\n",
    "    with pd.ExcelWriter(excel_file_name, engine='openpyxl') as excel_writer:\n",
    "        excel_writer.book = book\n",
    "        df_classification_report = classifaction_report_to_dataframe(classification_repo)\n",
    "        df_classification_report.to_excel(excel_writer, sheet_name='Linearsvm_cr'+str(t))\n",
    "\n",
    "        cm_df.to_excel(excel_writer, sheet_name='Linearsvm_cr'+str(t),\n",
    "                       startrow=len(df_classification_report)+5)\n",
    "\n",
    "        excel_writer.save()\n",
    "\n",
    "book = load_workbook(excel_file_name)\n",
    "with pd.ExcelWriter(excel_file_name, engine='openpyxl') as excel_writer:\n",
    "    excel_writer.book = book\n",
    "    df.to_excel(excel_writer, sheet_name='Linearsvm')\n",
    "    excel_writer.save()\n",
    "\n"
   ]
  },
  {
   "cell_type": "code",
   "execution_count": null,
   "metadata": {},
   "outputs": [],
   "source": []
  },
  {
   "cell_type": "code",
   "execution_count": null,
   "metadata": {},
   "outputs": [],
   "source": []
  },
  {
   "cell_type": "code",
   "execution_count": null,
   "metadata": {},
   "outputs": [],
   "source": []
  }
 ],
 "metadata": {
  "kernelspec": {
   "display_name": "Python 3",
   "language": "python",
   "name": "python3"
  },
  "language_info": {
   "codemirror_mode": {
    "name": "ipython",
    "version": 3
   },
   "file_extension": ".py",
   "mimetype": "text/x-python",
   "name": "python",
   "nbconvert_exporter": "python",
   "pygments_lexer": "ipython3",
   "version": "3.5.2"
  }
 },
 "nbformat": 4,
 "nbformat_minor": 2
}
