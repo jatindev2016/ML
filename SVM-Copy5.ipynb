{
 "cells": [
  {
   "cell_type": "code",
   "execution_count": 1,
   "metadata": {},
   "outputs": [
    {
     "name": "stderr",
     "output_type": "stream",
     "text": [
      "/users/mtech/jatindev/.local/lib/python3.5/site-packages/sklearn/utils/fixes.py:313: FutureWarning: numpy not_equal will not check object identity in the future. The comparison did not return the same result as suggested by the identity (`is`)) and will change.\n",
      "  _nan_object_mask = _nan_object_array != _nan_object_array\n"
     ]
    },
    {
     "name": "stdout",
     "output_type": "stream",
     "text": [
      "[[ 2.]\n",
      " [ 1.]\n",
      " [ 9.]\n",
      " ..., \n",
      " [ 0.]\n",
      " [ 9.]\n",
      " [ 5.]]\n"
     ]
    }
   ],
   "source": [
    "from __future__ import division\n",
    "from mnist import MNIST\n",
    "from sklearn import tree\n",
    "import numpy as np\n",
    "from sklearn.metrics import classification_report,log_loss,accuracy_score,roc_auc_score\n",
    "from sklearn.ensemble import RandomForestClassifier\n",
    "from time import time\n",
    "import pandas as pd\n",
    "from datetime import datetime\n",
    "from openpyxl import load_workbook\n",
    "import re\n",
    "from sklearn.preprocessing import label_binarize\n",
    "from sklearn.linear_model import LogisticRegression\n",
    "import numpy as np\n",
    "from sklearn.svm import SVC\n",
    "from sklearn.metrics import accuracy_score\n",
    "from mlxtend.data import loadlocal_mnist\n",
    "import timeit\n",
    "import timeit \n",
    "from sklearn.svm import LinearSVC\n",
    "from sklearn.calibration import CalibratedClassifierCV\n",
    "from sklearn.metrics import confusion_matrix\n",
    "from numpy import argmax\n",
    "\n",
    "import scipy.io\n",
    "mat = scipy.io.loadmat('mnist-with-awgn.mat')\n",
    "images_train_o, labels_train_o = mat['train_x'], mat['train_y']\n",
    "images_test_o, labels_test_o = mat['test_x'], mat['test_y']\n",
    "labels_test_o1 = np.array(labels_test_o)\n",
    "labels_train_o1  = np.array(labels_train_o)\n",
    "images_train_o = np.array(images_train_o)\n",
    "images_test_o = np.array(images_test_o)\n",
    "labels_test_o2=np.zeros((10000,1))\n",
    "labels_train_o2=np.zeros((60000,1))\n",
    "#print(images_test.shape)\n",
    "for i in range(0,10000):\n",
    "    labels_test_o2[i]=np.argmax(labels_test_o[i])\n",
    "for i in range(0,60000):\n",
    "    labels_train_o2[i]=np.argmax(labels_train_o[i])    \n",
    "    \n",
    "print(labels_test_o2)"
   ]
  },
  {
   "cell_type": "code",
   "execution_count": null,
   "metadata": {},
   "outputs": [],
   "source": []
  },
  {
   "cell_type": "code",
   "execution_count": 2,
   "metadata": {},
   "outputs": [
    {
     "name": "stderr",
     "output_type": "stream",
     "text": [
      "/usr/lib/python3/dist-packages/pandas/io/excel.py:687: DeprecationWarning: Call to deprecated function remove_sheet (Use wb.remove(worksheet) or del wb[sheetname]).\n",
      "  self.book.remove_sheet(self.book.worksheets[0])\n"
     ]
    }
   ],
   "source": [
    "excel_file_name = 'mnist-with-awgn' + str(datetime.now().strftime('%Y%m%d%H%M%S')) + '.xlsx'\n",
    "excel_writer = pd.ExcelWriter(excel_file_name, engine='openpyxl')\n",
    "df = pd.DataFrame(columns=['Examples','Accuracy','Normalized Accuracy', \n",
    "                     'Time_taken_train','Time_taken_test',\n",
    "                     'Negative Log loss','Macro_auc','Micro_auc'])\n",
    "df.to_excel(excel_writer, sheet_name='demo_sheet')\n",
    "\n",
    "excel_writer.save()\n"
   ]
  },
  {
   "cell_type": "code",
   "execution_count": 3,
   "metadata": {},
   "outputs": [],
   "source": [
    "def classifaction_report_to_dataframe(report):\n",
    "    report_data = []\n",
    "    lines = report.split('\\n')\n",
    "    for line in lines[2:-3]:\n",
    "        row = {}\n",
    "        row_data = line.split('      ')\n",
    "        print(line)\n",
    "        if len(row_data)>5:\n",
    "            row['class'] = row_data[1]\n",
    "            row['precision'] = float(row_data[2])\n",
    "            row['recall'] = float(row_data[3])\n",
    "            row['f1_score'] = float(row_data[4])\n",
    "            row['support'] = float(row_data[5])\n",
    "            report_data.append(row)\n",
    "    for line in lines[-2:-1]:\n",
    "        row = {}\n",
    "        p = re.compile(\"weighted avg\")\n",
    "        m = p.search(line)  \n",
    "        print(line)\n",
    "        row['class'] = m.group(0)\n",
    "        p = re.compile(\"\\d+.?\\d+\")\n",
    "        row_data = p.findall(line)\n",
    "        row['precision'] = float(row_data[0])\n",
    "        row['recall'] = float(row_data[1])\n",
    "        row['f1_score'] = float(row_data[2])\n",
    "        row['support'] = float(row_data[3])\n",
    "        report_data.append(row)\n",
    "        \n",
    "    dataframe = pd.DataFrame.from_dict(report_data)\n",
    "    return dataframe"
   ]
  },
  {
   "cell_type": "code",
   "execution_count": null,
   "metadata": {},
   "outputs": [],
   "source": [
    "\n"
   ]
  },
  {
   "cell_type": "code",
   "execution_count": 4,
   "metadata": {},
   "outputs": [
    {
     "name": "stdout",
     "output_type": "stream",
     "text": [
      "For t= 60000\n",
      "(60000, 1)\n"
     ]
    },
    {
     "name": "stderr",
     "output_type": "stream",
     "text": [
      "/users/mtech/jatindev/.local/lib/python3.5/site-packages/sklearn/utils/validation.py:752: DataConversionWarning: A column-vector y was passed when a 1d array was expected. Please change the shape of y to (n_samples, ), for example using ravel().\n",
      "  y = column_or_1d(y, warn=True)\n",
      "/users/mtech/jatindev/.local/lib/python3.5/site-packages/sklearn/model_selection/_split.py:1943: FutureWarning: You should specify a value for 'cv' instead of relying on the default value. The default value will change from 3 to 5 in version 0.22.\n",
      "  warnings.warn(CV_WARNING, FutureWarning)\n",
      "/users/mtech/jatindev/.local/lib/python3.5/site-packages/sklearn/svm/base.py:922: ConvergenceWarning: Liblinear failed to converge, increase the number of iterations.\n",
      "  \"the number of iterations.\", ConvergenceWarning)\n",
      "/users/mtech/jatindev/.local/lib/python3.5/site-packages/sklearn/svm/base.py:922: ConvergenceWarning: Liblinear failed to converge, increase the number of iterations.\n",
      "  \"the number of iterations.\", ConvergenceWarning)\n",
      "/users/mtech/jatindev/.local/lib/python3.5/site-packages/sklearn/svm/base.py:922: ConvergenceWarning: Liblinear failed to converge, increase the number of iterations.\n",
      "  \"the number of iterations.\", ConvergenceWarning)\n",
      "/usr/lib/python3/dist-packages/pandas/io/excel.py:687: DeprecationWarning: Call to deprecated function remove_sheet (Use wb.remove(worksheet) or del wb[sheetname]).\n",
      "  self.book.remove_sheet(self.book.worksheets[0])\n"
     ]
    },
    {
     "name": "stdout",
     "output_type": "stream",
     "text": [
      "         0.0       0.92      0.96      0.94       980\n",
      "         1.0       0.90      0.96      0.93      1135\n",
      "         2.0       0.88      0.81      0.85      1032\n",
      "         3.0       0.84      0.87      0.85      1010\n",
      "         4.0       0.85      0.87      0.86       982\n",
      "         5.0       0.80      0.75      0.78       892\n",
      "         6.0       0.89      0.92      0.91       958\n",
      "         7.0       0.87      0.87      0.87      1028\n",
      "         8.0       0.82      0.78      0.80       974\n",
      "         9.0       0.82      0.80      0.81      1009\n",
      "\n",
      "   micro avg       0.86      0.86      0.86     10000\n",
      "weighted avg       0.86      0.86      0.86     10000\n"
     ]
    },
    {
     "name": "stderr",
     "output_type": "stream",
     "text": [
      "/usr/lib/python3/dist-packages/pandas/io/excel.py:687: DeprecationWarning: Call to deprecated function remove_sheet (Use wb.remove(worksheet) or del wb[sheetname]).\n",
      "  self.book.remove_sheet(self.book.worksheets[0])\n"
     ]
    }
   ],
   "source": [
    "for t in[60000]:\n",
    "    print('For t=',t)\n",
    "    images_train=images_train_o\n",
    "    labels_train=labels_train_o2\n",
    "    images_test=images_test_o\n",
    "    labels_test=labels_test_o2\n",
    "    svm = LinearSVC(dual=True)\n",
    "    classifier= CalibratedClassifierCV(svm)\n",
    "    start=time()\n",
    "    print(labels_train.shape)\n",
    "    classifier.fit(images_train,labels_train)\n",
    "    train_time=time()-start\n",
    "    start=time()\n",
    "    predictions=classifier.predict(images_test)\n",
    "    test_time=time()-start\n",
    "    accuracy=accuracy_score(predictions,labels_test,normalize=False)\n",
    "    normalized_accuracy=accuracy_score(predictions,labels_test,normalize=True)\n",
    "    log_loss_prediction=classifier.predict_proba(images_test)\n",
    "    log_loss_val=log_loss(labels_test,log_loss_prediction)\n",
    "    classification_repo=classification_report(labels_test,predictions)\n",
    "\n",
    "    labels_test_one_hot=label_binarize(labels_test,classes=[0,1,2,3,4,5,6,7,8,9])\n",
    "    predictions_one_hot=label_binarize(predictions,classes=[0,1,2,3,4,5,6,7,8,9])\n",
    "    micro_auc=roc_auc_score(labels_test_one_hot,predictions_one_hot,average=\"micro\")\n",
    "    macro_auc=roc_auc_score(labels_test_one_hot,predictions_one_hot,average=\"macro\")\n",
    "\n",
    "    #print(micro_auc,macro_auc)\n",
    "    cm = confusion_matrix(labels_test,predictions)\n",
    "    cm_df = pd.DataFrame(data=cm)\n",
    "    df_data = [t,accuracy,normalized_accuracy,train_time,test_time,log_loss_val,macro_auc,micro_auc]\n",
    "    df.loc[len(df)] = df_data   \n",
    "\n",
    "    book = load_workbook(excel_file_name)\n",
    "    with pd.ExcelWriter(excel_file_name, engine='openpyxl') as excel_writer:\n",
    "        excel_writer.book = book\n",
    "        df_classification_report = classifaction_report_to_dataframe(classification_repo)\n",
    "        df_classification_report.to_excel(excel_writer, sheet_name='Linearsvm_cr'+str(t))\n",
    "\n",
    "        cm_df.to_excel(excel_writer, sheet_name='mnist-with-awg'+str(t),\n",
    "                       startrow=len(df_classification_report)+5)\n",
    "\n",
    "        excel_writer.save()\n",
    "\n",
    "book = load_workbook(excel_file_name)\n",
    "with pd.ExcelWriter(excel_file_name, engine='openpyxl') as excel_writer:\n",
    "    excel_writer.book = book\n",
    "    df.to_excel(excel_writer, sheet_name='mnist-with-awg')\n",
    "    excel_writer.save()\n",
    "\n"
   ]
  },
  {
   "cell_type": "code",
   "execution_count": null,
   "metadata": {},
   "outputs": [],
   "source": []
  },
  {
   "cell_type": "code",
   "execution_count": null,
   "metadata": {},
   "outputs": [],
   "source": []
  },
  {
   "cell_type": "code",
   "execution_count": null,
   "metadata": {},
   "outputs": [],
   "source": []
  }
 ],
 "metadata": {
  "kernelspec": {
   "display_name": "Python 3",
   "language": "python",
   "name": "python3"
  },
  "language_info": {
   "codemirror_mode": {
    "name": "ipython",
    "version": 3
   },
   "file_extension": ".py",
   "mimetype": "text/x-python",
   "name": "python",
   "nbconvert_exporter": "python",
   "pygments_lexer": "ipython3",
   "version": "3.5.2"
  }
 },
 "nbformat": 4,
 "nbformat_minor": 2
}
